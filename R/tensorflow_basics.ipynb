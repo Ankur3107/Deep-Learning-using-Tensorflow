{
  "cells": [
    {
      "metadata": {
        "_uuid": "382b11882fd2fbfd8c292974a63524e2fc6e0b00",
        "_execution_state": "idle",
        "trusted": true
      },
      "cell_type": "code",
      "source": "library(tensorflow)\nlibrary(reticulate)",
      "execution_count": null,
      "outputs": []
    },
    {
      "metadata": {
        "trusted": true,
        "_uuid": "05650c63cebe3c0937cad175073fac312426168f"
      },
      "cell_type": "code",
      "source": "a = 2\nb = 3\nc = tf$add(a, b, name=\"Add\")\nprint(c)\n\n# run tensor graphs\nsess = tf$Session()\nprint(sess$run(c))\n\n# another way to run tensor graph\nwith(tf$Session() %as% sess, {\n    result <- sess$run(c)\n    print(result)\n})",
      "execution_count": null,
      "outputs": []
    },
    {
      "metadata": {
        "trusted": true,
        "_uuid": "518dfd90728be4ea0374fc5f5098786086362f48"
      },
      "cell_type": "code",
      "source": "x = 2\ny = 3\nadd_op = tf$add(x,y, name=\"Add\")\nmul_op = tf$multiply(x, y, name='Multiply')\npow_op = tf$pow(add_op, mul_op, name='Power')\nuseless_op = tf$multiply(x, add_op, name='Useless')\n\n# run tensor graphs\nsess = tf$Session()\nprint(sess$run(c(pow_op, useless_op)))\n\n# another way to run tensor graph\nwith(tf$Session() %as% sess, {\n    print(sess$run(c(pow_op, useless_op)))\n})",
      "execution_count": null,
      "outputs": []
    },
    {
      "metadata": {
        "_uuid": "65e278e2f3a0035ff618f72756be1fb3f874203b"
      },
      "cell_type": "markdown",
      "source": "# Tensor Types in TensorFlow"
    },
    {
      "metadata": {
        "_uuid": "c9643e4bca368c4f6776959133523fb70e53b342"
      },
      "cell_type": "markdown",
      "source": "### 1. Constant\n\n> **tf.constant(value, dtype=None, shape=None, name='Const', verify_shape=False)**"
    },
    {
      "metadata": {
        "trusted": true,
        "_uuid": "94bec9aab7ab4174d796732acae1b87f6ee7514e"
      },
      "cell_type": "code",
      "source": "# create graph\na = tf$constant(2)\nb = tf$constant(3)\nc = a + b\n\n# launch the graph in a session\nwith(tf$Session() %as% sess, {\n    print(sess$run(c))\n})",
      "execution_count": null,
      "outputs": []
    },
    {
      "metadata": {
        "trusted": true,
        "_uuid": "012e4ec62fff973dc272c7dd1d978152b2208113"
      },
      "cell_type": "code",
      "source": "# create graph\ns = tf$constant(2.3, name='scalar', dtype=tf$float32)\nm = tf$constant(matrix(c(1, 2, 3, 4), byrow=T, nrow=2), name='matrix')\n\n# launch the graph in a session\nwith(tf$Session() %as% sess, {\n    print(sess$run(s))\n    print(sess$run(m))\n})",
      "execution_count": null,
      "outputs": []
    },
    {
      "metadata": {
        "_uuid": "80416eb2ee07bf3ee6aa1cba9ca8b2625964b2ef"
      },
      "cell_type": "markdown",
      "source": "### 2. VARIABLE\n> tf.Variable( initial-value , name=  optional-name  )\n\n> tf.get_variable(name, shape=None, dtype=None,  initializer=None,regularizer=None, trainable=True, collections=None, caching_device=None,  partitioner=None..)"
    },
    {
      "metadata": {
        "trusted": true,
        "_uuid": "18741a4e11551c1e46cb6299cedc695476e2316f"
      },
      "cell_type": "code",
      "source": "s = tf$get_variable(\"scalar\", initializer=tf$constant(2)) \nm = tf$get_variable(\"matrix\", initializer=tf$constant(matrix(c(1, 2, 3, 4), byrow=T, nrow=2)))\nW = tf$get_variable(\"weight_matrix\", shape=c(784, 10), initializer=tf$zeros_initializer())",
      "execution_count": null,
      "outputs": []
    },
    {
      "metadata": {
        "trusted": true,
        "_uuid": "20754540498456fb74d9e83364da631a120a645b"
      },
      "cell_type": "code",
      "source": "# create graph\na = tf$get_variable(name=\"A\", initializer=tf$constant(2))\nb = tf$get_variable(name=\"B\", initializer=tf$constant(3))\nc = tf$add(a, b, name=\"Add\")\n# add an Op to initialize global variables\ninit_op = tf$global_variables_initializer()\n\n# launch the graph in a session\nwith(tf$Session() %as% sess, {\n    # run the variable initializer operation\n    sess$run(init_op)\n    # now let's evaluate their value\n    print(sess$run(a))\n    print(sess$run(b))\n    print(sess$run(c))\n})",
      "execution_count": null,
      "outputs": []
    },
    {
      "metadata": {
        "trusted": true,
        "_uuid": "a6c3c2f8f3277058c548ef8ead479735d6ee8df8"
      },
      "cell_type": "code",
      "source": "# create graph\nweights = tf$get_variable(name=\"W\", shape=c(2,3), initializer=tf$truncated_normal_initializer(stddev=0.01))\nbiases = tf$get_variable(name=\"b\", shape=c(3), initializer=tf$zeros_initializer())\n\n# add an Op to initialize global variables\ninit_op = tf$global_variables_initializer()\n\n# launch the graph in a session\nwith(tf$Session() %as% sess, {\n    # run the variable initializer operation\n    sess$run(init_op)\n    # now let's evaluate their value\n    print(sess$run(c(weights, biases)))\n})",
      "execution_count": null,
      "outputs": []
    },
    {
      "metadata": {
        "_uuid": "ed565919db7b2dd3b7e9453faab803f4f2fbbe6a"
      },
      "cell_type": "markdown",
      "source": "### 3. Placeholder\n\n> tf.placeholder(dtype=tf.float32, shape=None, name=None)"
    },
    {
      "metadata": {
        "trusted": true,
        "_uuid": "448711a60a95dde107acb9f44918134c567b5997"
      },
      "cell_type": "code",
      "source": "a = tf$constant(c(5, 5, 5), tf$float32, name='A')\nb = tf$placeholder(tf$float32, shape=c(3), name='B')\nc = tf$add(a, b, name=\"Add\")\n\n# sess$run(train_step, feed_dict = dict(x = batch_xs, y_ = batch_ys))\n# launch the graph in a session\nwith(tf$Session() %as% sess, {\n    # create a dictionary:\n    b_value<- c(1,2,3)\n    # feed it to the placeholder\n    print(sess$run(c, feed_dict=dict(b = b_value)))\n})",
      "execution_count": null,
      "outputs": []
    }
  ],
  "metadata": {
    "kernelspec": {
      "display_name": "R",
      "language": "R",
      "name": "ir"
    },
    "language_info": {
      "mimetype": "text/x-r-source",
      "name": "R",
      "pygments_lexer": "r",
      "version": "3.4.2",
      "file_extension": ".r",
      "codemirror_mode": "r"
    }
  },
  "nbformat": 4,
  "nbformat_minor": 1
}