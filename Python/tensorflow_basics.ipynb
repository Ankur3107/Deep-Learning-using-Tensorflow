{
  "cells": [
    {
      "metadata": {
        "_uuid": "8f2839f25d086af736a60e9eeb907d3b93b6e0e5",
        "_cell_guid": "b1076dfc-b9ad-4769-8c92-a6c4dae69d19",
        "trusted": true
      },
      "cell_type": "code",
      "source": "import tensorflow as tf\nimport numpy as np",
      "execution_count": null,
      "outputs": []
    },
    {
      "metadata": {
        "_uuid": "521b6fb47327137340d04138bffb3dae5a49ee1d"
      },
      "cell_type": "markdown",
      "source": "# Basic Operations"
    },
    {
      "metadata": {
        "_cell_guid": "79c7e3d0-c299-4dcb-8224-4455121ee9b0",
        "_uuid": "d629ff2d2480ee46fbb7e2d37f6b5fab8052498a",
        "trusted": true
      },
      "cell_type": "code",
      "source": "################ 1. \"Add\" operation ###################\na = 2\nb = 3\nc = tf.add(a, b, name='Add')\nprint(c)\n\n# run tensor graphs\nsess = tf.Session()\nprint(sess.run(c))\nsess.close()\n\n# another way to run tensor graph\nwith tf.Session() as sess:\n    print(sess.run(c))",
      "execution_count": null,
      "outputs": []
    },
    {
      "metadata": {
        "trusted": true,
        "_uuid": "b02c28676e852b7ee1de68a3e106b93933bd5402"
      },
      "cell_type": "code",
      "source": "################# 2. Creating a graph with multiple math operations ##################\n\nx = 2\ny = 3\nadd_op = tf.add(x,y, name=\"Add\")\nmul_op = tf.multiply(x, y, name='Multiply')\npow_op = tf.pow(add_op, mul_op, name='Power')\nuseless_op = tf.multiply(x, add_op, name='Useless')\n\nwith tf.Session() as sess:\n    pow_out, useless_out = sess.run([pow_op, useless_op])\n    print(pow_out)\n    print(useless_out)",
      "execution_count": null,
      "outputs": []
    },
    {
      "metadata": {
        "_uuid": "cd37dd8ff64f275423424fc00a128d78688ccb2b"
      },
      "cell_type": "markdown",
      "source": "# Tensor Types in TensorFlow"
    },
    {
      "metadata": {
        "_uuid": "5cd00c07e2481b55bfda534742bf6cf69a38550d"
      },
      "cell_type": "markdown",
      "source": "### 1. Constant\n\n> **tf.constant(value, dtype=None, shape=None, name='Const', verify_shape=False)**"
    },
    {
      "metadata": {
        "trusted": true,
        "_uuid": "6d31ff8d5edaed4b03b71d911098c3fe3e5beb3c"
      },
      "cell_type": "code",
      "source": "# Example 1\n# create graph\na = tf.constant(2)\nb = tf.constant(3)\nc = a + b\n# launch the graph in a session\nwith tf.Session() as sess:\n    print(sess.run(c))",
      "execution_count": null,
      "outputs": []
    },
    {
      "metadata": {
        "trusted": true,
        "_uuid": "d27f0e5224bf1803f28b22f2a33c8ce593ba9bf6"
      },
      "cell_type": "code",
      "source": "# Example 2\n# create graph\ns = tf.constant(2.3, name='scalar', dtype=tf.float32)\nm = tf.constant([[1, 2], [3, 4]], name='matrix')\n# launch the graph in a session\nwith tf.Session() as sess:\n    print(sess.run(s))\n    print(sess.run(m))",
      "execution_count": null,
      "outputs": []
    },
    {
      "metadata": {
        "_uuid": "17d837742f22ea551de97ac693564d19b88c3348"
      },
      "cell_type": "markdown",
      "source": "### 2. VARIABLE\n> tf.Variable( initial-value , name=  optional-name  )\n\n> tf.get_variable(name, shape=None, dtype=None,  initializer=None,regularizer=None, trainable=True, collections=None, caching_device=None,  partitioner=None..)"
    },
    {
      "metadata": {
        "trusted": true,
        "_uuid": "dd32f8885492ff3d53952c66d0bf2fb35d97a492"
      },
      "cell_type": "code",
      "source": "s = tf.get_variable(\"scalar\", initializer=tf.constant(2)) \nm = tf.get_variable(\"matrix\", initializer=tf.constant([[0, 1], [2, 3]]))\nW = tf.get_variable(\"weight_matrix\", shape=(784, 10), initializer=tf.zeros_initializer())",
      "execution_count": null,
      "outputs": []
    },
    {
      "metadata": {
        "trusted": true,
        "_uuid": "ec2f8280aa55ab43615f2cf62bc1a5201abc3fa8"
      },
      "cell_type": "code",
      "source": "# create graph\na = tf.get_variable(name=\"A\", initializer=tf.constant(2))\nb = tf.get_variable(name=\"B\", initializer=tf.constant(3))\nc = tf.add(a, b, name=\"Add\")\n# add an Op to initialize global variables\ninit_op = tf.global_variables_initializer()\n\n# launch the graph in a session\nwith tf.Session() as sess:\n    # run the variable initializer operation\n    sess.run(init_op)\n    # now let's evaluate their value\n    print(sess.run(a))\n    print(sess.run(b))\n    print(sess.run(c))",
      "execution_count": null,
      "outputs": []
    },
    {
      "metadata": {
        "trusted": true,
        "_uuid": "ac82613ae5490b6f25a49d95dacc929d3945bbad"
      },
      "cell_type": "code",
      "source": "# create graph\nweights = tf.get_variable(name=\"W\", shape=[2,3], initializer=tf.truncated_normal_initializer(stddev=0.01))\nbiases = tf.get_variable(name=\"b\", shape=[3], initializer=tf.zeros_initializer())\n\n# add an Op to initialize global variables\ninit_op = tf.global_variables_initializer()\n\n# launch the graph in a session\nwith tf.Session() as sess:\n    # run the variable initializer\n    sess.run(init_op)\n    # now we can run our operations\n    W, b = sess.run([weights, biases])\n    print('weights = {}'.format(W))\n    print('biases = {}'.format(b))",
      "execution_count": null,
      "outputs": []
    },
    {
      "metadata": {
        "_uuid": "81098ab63d9c755ec7788245f64bfd4e906eae24"
      },
      "cell_type": "markdown",
      "source": "### 3. Placeholder\n\n> tf.placeholder(dtype=tf.float32, shape=None, name=None)"
    },
    {
      "metadata": {
        "trusted": true,
        "_uuid": "fc01f0683d20680b41a4c95f684d6359c5634af9"
      },
      "cell_type": "code",
      "source": "a = tf.constant([5, 5, 5], tf.float32, name='A')\nb = tf.placeholder(tf.float32, shape=[3], name='B')\nc = tf.add(a, b, name=\"Add\")\n\nwith tf.Session() as sess:\n    # create a dictionary:\n    d = {b: [1, 2, 3]}\n    # feed it to the placeholder\n    print(sess.run(c, feed_dict=d))",
      "execution_count": null,
      "outputs": []
    },
    {
      "metadata": {
        "_uuid": "a1e4a0fd424c2e84686c79ea80de79283d047a0e"
      },
      "cell_type": "markdown",
      "source": "# Creating a Neural Network\n\n![](https://raw.githubusercontent.com/easy-tensorflow/easy-tensorflow/4eeceeb73ad01ba14e89a7586e45c520ddd92974/1_TensorFlow_Basics/Tutorials/files/2_5.png)"
    },
    {
      "metadata": {
        "trusted": true,
        "_uuid": "7d51f39cdf6c0ed4311e57e57a7f36bb3b3a59a8"
      },
      "cell_type": "code",
      "source": "# create the input placeholder\nX = tf.placeholder(tf.float32, shape=[None, 784], name=\"X\")\nweight_initer = tf.truncated_normal_initializer(mean=0.0, stddev=0.01)\n\n# create network parameters\nW = tf.get_variable(name=\"Weight\", dtype=tf.float32, shape=[784, 200], initializer=weight_initer)\nbias_initer =tf.constant(0., shape=[200], dtype=tf.float32)\nb = tf.get_variable(name=\"Bias\", dtype=tf.float32, initializer=bias_initer)\n\n# create MatMul node\nx_w = tf.matmul(X, W, name=\"MatMul\")\n# create Add node\nx_w_b = tf.add(x_w, b, name=\"Add\")\n# create ReLU node\nh = tf.nn.relu(x_w_b, name=\"ReLU\") \n\n# Add an Op to initialize variables\ninit_op = tf.global_variables_initializer()\n\n# launch the graph in a session\nwith tf.Session() as sess:\n    # initialize variables\n    sess.run(init_op)\n    # create the dictionary:\n    d = {X: np.random.rand(100, 784)}\n    # feed it to placeholder a via the dict \n    print(sess.run(h, feed_dict=d))",
      "execution_count": null,
      "outputs": []
    }
  ],
  "metadata": {
    "kernelspec": {
      "display_name": "Python 3",
      "language": "python",
      "name": "python3"
    },
    "language_info": {
      "name": "python",
      "version": "3.6.6",
      "mimetype": "text/x-python",
      "codemirror_mode": {
        "name": "ipython",
        "version": 3
      },
      "pygments_lexer": "ipython3",
      "nbconvert_exporter": "python",
      "file_extension": ".py"
    }
  },
  "nbformat": 4,
  "nbformat_minor": 1
}